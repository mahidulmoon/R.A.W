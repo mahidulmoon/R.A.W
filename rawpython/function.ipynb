{
 "cells": [
  {
   "cell_type": "code",
   "execution_count": 9,
   "metadata": {},
   "outputs": [
    {
     "name": "stdout",
     "output_type": "stream",
     "text": [
      "Biya korte hoibo\n"
     ]
    }
   ],
   "source": [
    "def function_name():\n",
    "    return \"Biya korte hoibo\"\n",
    "\n",
    "print(function_name())"
   ]
  },
  {
   "cell_type": "code",
   "execution_count": 10,
   "metadata": {},
   "outputs": [
    {
     "name": "stdout",
     "output_type": "stream",
     "text": [
      "I think also\n"
     ]
    }
   ],
   "source": [
    "def another_func():\n",
    "    return \"I think also\"\n",
    "\n",
    "variable = another_func()\n",
    "print(variable)"
   ]
  },
  {
   "cell_type": "code",
   "execution_count": 18,
   "metadata": {
    "scrolled": true
   },
   "outputs": [
    {
     "name": "stdout",
     "output_type": "stream",
     "text": [
      "449\n"
     ]
    }
   ],
   "source": [
    "def passing_parameter(number,number2):\n",
    "    result =0\n",
    "    #result += number\n",
    "    result = result + number + number2\n",
    "    return result\n",
    "\n",
    "print(passing_parameter(230,219))\n"
   ]
  },
  {
   "cell_type": "code",
   "execution_count": 4,
   "metadata": {},
   "outputs": [
    {
     "name": "stdout",
     "output_type": "stream",
     "text": [
      "Hi everyone\n"
     ]
    }
   ],
   "source": [
    "def func_from_main():\n",
    "    print(\"Hi everyone\")\n",
    "    \n",
    "\n",
    "func_from_main()"
   ]
  },
  {
   "cell_type": "code",
   "execution_count": 8,
   "metadata": {},
   "outputs": [
    {
     "name": "stdout",
     "output_type": "stream",
     "text": [
      "this is inside main function\n",
      "this is inside function\n"
     ]
    }
   ],
   "source": [
    "def func_with_main():\n",
    "    print(\"this is inside function\")\n",
    "    \n",
    "\n",
    "if __name__ == '__main__':\n",
    "    print(\"this is inside main function\")\n",
    "    func_with_main()"
   ]
  },
  {
   "cell_type": "code",
   "execution_count": 19,
   "metadata": {},
   "outputs": [
    {
     "name": "stdout",
     "output_type": "stream",
     "text": [
      "{'runa', 'moon', 'hena'}\n"
     ]
    }
   ],
   "source": [
    "def pass_list(listname):\n",
    "    print(listname)\n",
    "    \n",
    "list1 = {'runa','hena','moon'}\n",
    "pass_list(list1)"
   ]
  },
  {
   "cell_type": "code",
   "execution_count": 36,
   "metadata": {},
   "outputs": [
    {
     "name": "stdout",
     "output_type": "stream",
     "text": [
      "runa hena moon 2 3 4\n"
     ]
    }
   ],
   "source": [
    "def pass_list(*args):\n",
    "    print(*args)\n",
    "    \n",
    "\n",
    "pass_list('runa','hena','moon',2,3,4)"
   ]
  },
  {
   "cell_type": "code",
   "execution_count": 35,
   "metadata": {},
   "outputs": [
    {
     "name": "stdout",
     "output_type": "stream",
     "text": [
      "name moon\n"
     ]
    }
   ],
   "source": [
    "def pass_kwargs(**kwargs):\n",
    "    for k,v in kwargs.items():\n",
    "        print(k,v)\n",
    "    \n",
    "pass_kwargs(name = \"moon\")"
   ]
  },
  {
   "cell_type": "code",
   "execution_count": null,
   "metadata": {},
   "outputs": [],
   "source": []
  }
 ],
 "metadata": {
  "kernelspec": {
   "display_name": "Python 3",
   "language": "python",
   "name": "python3"
  },
  "language_info": {
   "codemirror_mode": {
    "name": "ipython",
    "version": 3
   },
   "file_extension": ".py",
   "mimetype": "text/x-python",
   "name": "python",
   "nbconvert_exporter": "python",
   "pygments_lexer": "ipython3",
   "version": "3.7.6"
  }
 },
 "nbformat": 4,
 "nbformat_minor": 4
}
